{
 "cells": [
  {
   "cell_type": "code",
   "id": "initial_id",
   "metadata": {
    "collapsed": true,
    "ExecuteTime": {
     "end_time": "2024-12-22T14:09:09.475650Z",
     "start_time": "2024-12-22T14:09:09.471684Z"
    }
   },
   "source": [
    "import pandas as pd\n",
    "\n",
    "# Series 特点：\n",
    "# 一维数组：Series 中的每个元素都有一个对应的索引值。\n",
    "# 索引： 每个数据元素都可以通过标签（索引）来访问，默认情况下索引是从 0 开始的整数，但你也可以自定义索引。\n",
    "# 数据类型： Series 可以容纳不同数据类型的元素，包括整数、浮点数、字符串、Python 对象等。\n",
    "# 大小不变性：Series 的大小在创建后是不变的，但可以通过某些操作（如 append 或 delete）来改变。\n",
    "# 操作：Series 支持各种操作，如数学运算、统计分析、字符串处理等。\n",
    "# 缺失数据：Series 可以包含缺失数据，Pandas 使用NaN（Not a Number）来表示缺失或无值。\n",
    "# 自动对齐：当对多个 Series 进行运算时，Pandas 会自动根据索引对齐数据，这使得数据处理更加高效。"
   ],
   "outputs": [],
   "execution_count": 3
  },
  {
   "metadata": {
    "ExecuteTime": {
     "end_time": "2024-12-22T14:09:54.415578Z",
     "start_time": "2024-12-22T14:09:54.408772Z"
    }
   },
   "cell_type": "code",
   "source": [
    "# 创建一个Series对象，指定名称为'A'，值分别为1, 2, 3, 4\n",
    "# 默认索引为0, 1, 2, 3\n",
    "series = pd.Series([1, 2, 3, 4], name='A')\n",
    "series"
   ],
   "id": "335a2ae54c8e9795",
   "outputs": [
    {
     "data": {
      "text/plain": [
       "0    1\n",
       "1    2\n",
       "2    3\n",
       "3    4\n",
       "Name: A, dtype: int64"
      ]
     },
     "execution_count": 5,
     "metadata": {},
     "output_type": "execute_result"
    }
   ],
   "execution_count": 5
  },
  {
   "metadata": {
    "ExecuteTime": {
     "end_time": "2024-12-22T14:11:02.595565Z",
     "start_time": "2024-12-22T14:11:02.588776Z"
    }
   },
   "cell_type": "code",
   "source": [
    "# 显示设置索引\n",
    "pd.Series([1, 2, 3, 4], index=['a', 'b', 'c', 'd'])"
   ],
   "id": "22ac57d35ce177e3",
   "outputs": [
    {
     "data": {
      "text/plain": [
       "a    1\n",
       "b    2\n",
       "c    3\n",
       "d    4\n",
       "dtype: int64"
      ]
     },
     "execution_count": 6,
     "metadata": {},
     "output_type": "execute_result"
    }
   ],
   "execution_count": 6
  },
  {
   "metadata": {
    "ExecuteTime": {
     "end_time": "2024-12-22T14:15:51.875616Z",
     "start_time": "2024-12-22T14:15:51.867150Z"
    }
   },
   "cell_type": "code",
   "source": [
    "# 字典创建方式，只取指定index的值\n",
    "sites = {1: \"Google\", 2: \"Runoob\", 3: \"Wiki\"}\n",
    "myvar = pd.Series(sites, index = [1, 2])\n",
    "print(myvar)\n",
    "\n",
    "# np数组创建\n",
    "import numpy as np\n",
    "np_val = pd.Series(np.array([1, 2, 3, 4]), index = ['a', 'b', 'c', 'd'])\n",
    "print(np_val)"
   ],
   "id": "ef68cdd195eac00a",
   "outputs": [
    {
     "name": "stdout",
     "output_type": "stream",
     "text": [
      "1    Google\n",
      "2    Runoob\n",
      "dtype: object\n",
      "a    1\n",
      "b    2\n",
      "c    3\n",
      "d    4\n",
      "dtype: int64\n"
     ]
    }
   ],
   "execution_count": 7
  },
  {
   "metadata": {
    "ExecuteTime": {
     "end_time": "2024-12-22T14:29:55.573712Z",
     "start_time": "2024-12-22T14:29:55.567931Z"
    }
   },
   "cell_type": "code",
   "source": [
    "# 常用方法或属性\n",
    "# 获取索引\n",
    "print(np_val.index)\n",
    "\n",
    "# 获取值\n",
    "print(np_val.values)\n",
    "\n",
    "# 获取前几行\n",
    "print(np_val.head(3))\n",
    "\n",
    "# 获取后几行\n",
    "print(np_val.tail(3))\n",
    "\n",
    "# 获取数据类型\n",
    "print(np_val.dtype)\n",
    "\n",
    "# 行数\n",
    "print(np_val.shape)\n",
    "\n",
    "# 返回 Series 的统计描述（如均值、标准差、最小值等）\n",
    "print(np_val.describe())\n",
    "\n",
    "# 返回一个布尔 Series，表示每个元素是否为 NaN\n",
    "print(np_val.isnull())\n",
    "\n",
    "# 去重\n",
    "print(np_val.unique())\n",
    "\n",
    "# 将指定函数应用于 Series 中的每个元素\n",
    "print('======', np_val.map(lambda x: x*x))\n"
   ],
   "id": "ada4bde3ebbe4ae1",
   "outputs": [
    {
     "name": "stdout",
     "output_type": "stream",
     "text": [
      "Index(['a', 'b', 'c', 'd'], dtype='object')\n",
      "[1 2 3 4]\n",
      "a    1\n",
      "b    2\n",
      "c    3\n",
      "dtype: int64\n",
      "b    2\n",
      "c    3\n",
      "d    4\n",
      "dtype: int64\n",
      "int64\n",
      "(4,)\n",
      "count    4.000000\n",
      "mean     2.500000\n",
      "std      1.290994\n",
      "min      1.000000\n",
      "25%      1.750000\n",
      "50%      2.500000\n",
      "75%      3.250000\n",
      "max      4.000000\n",
      "dtype: float64\n",
      "a    False\n",
      "b    False\n",
      "c    False\n",
      "d    False\n",
      "dtype: bool\n",
      "[1 2 3 4]\n",
      "====== a     1\n",
      "b     4\n",
      "c     9\n",
      "d    16\n",
      "dtype: int64\n"
     ]
    }
   ],
   "execution_count": 14
  },
  {
   "metadata": {},
   "cell_type": "code",
   "outputs": [],
   "execution_count": null,
   "source": "",
   "id": "ffabc29d6d78f89"
  }
 ],
 "metadata": {
  "kernelspec": {
   "display_name": "Python 3",
   "language": "python",
   "name": "python3"
  },
  "language_info": {
   "codemirror_mode": {
    "name": "ipython",
    "version": 2
   },
   "file_extension": ".py",
   "mimetype": "text/x-python",
   "name": "python",
   "nbconvert_exporter": "python",
   "pygments_lexer": "ipython2",
   "version": "2.7.6"
  }
 },
 "nbformat": 4,
 "nbformat_minor": 5
}
