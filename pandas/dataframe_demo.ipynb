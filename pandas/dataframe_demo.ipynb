{
 "cells": [
  {
   "cell_type": "code",
   "id": "initial_id",
   "metadata": {
    "collapsed": true,
    "ExecuteTime": {
     "end_time": "2024-12-22T14:50:19.856044Z",
     "start_time": "2024-12-22T14:50:19.852423Z"
    }
   },
   "source": [
    "import pandas as pd\n",
    "import numpy as np\n",
    "\n",
    "# DataFrame 是 Pandas 中的另一个核心数据结构，类似于一个二维的表格或数据库中的数据表。\n",
    "# 特点：\n",
    "# 列的数据类型： 不同的列可以包含不同的数据类型，例如整数、浮点数、字符串或 Python 对象等。\n",
    "# 索引：DataFrame 可以拥有行索引和列索引，类似于 Excel 中的行号和列标。\n",
    "# 大小可变：可以添加和删除列，类似于 Python 中的字典。\n",
    "# 自动对齐：在进行算术运算或数据对齐操作时，DataFrame 会自动对齐索引。\n",
    "# 处理缺失数据：DataFrame 可以包含缺失数据，Pandas 使用 NaN（Not a Number）来表示。\n",
    "# 数据操作：支持数据切片、索引、子集分割等操作。\n",
    "# 时间序列支持：DataFrame 对时间序列数据有特别的支持，可以轻松地进行时间数据的切片、索引和操作。\n",
    "# 灵活数据处理和高效数据统计"
   ],
   "outputs": [],
   "execution_count": 7
  },
  {
   "metadata": {
    "ExecuteTime": {
     "end_time": "2024-12-22T14:50:23.073086Z",
     "start_time": "2024-12-22T14:50:23.064166Z"
    }
   },
   "cell_type": "code",
   "source": [
    "# 使用列表创建\n",
    "data = [['Google', 10], ['Runoob', 12], ['Wiki', 13]]\n",
    "print(pd.DataFrame(data, columns=['Site', 'Age']))\n",
    "print('=============')\n",
    "# 使用字典创建\n",
    "data = {'Site':['Google', 'Runoob', 'Wiki'], 'Age':[10, 12, 13]}\n",
    "df = pd.DataFrame(data)\n",
    "print (df)\n",
    "print('=============')\n",
    "# 使用ndarray创建\n",
    "# 创建一个包含网站和年龄的二维ndarray\n",
    "ndarray_data = np.array([\n",
    "    ['Google', 10],\n",
    "    ['Runoob', 12],\n",
    "    ['Wiki', 13]\n",
    "])\n",
    "df = pd.DataFrame(ndarray_data, columns=['Site', 'Age'])\n",
    "# 打印数据帧\n",
    "print(df)\n"
   ],
   "id": "b5714b72055ae364",
   "outputs": [
    {
     "name": "stdout",
     "output_type": "stream",
     "text": [
      "     Site  Age\n",
      "0  Google   10\n",
      "1  Runoob   12\n",
      "2    Wiki   13\n",
      "=============\n",
      "     Site  Age\n",
      "0  Google   10\n",
      "1  Runoob   12\n",
      "2    Wiki   13\n",
      "=============\n",
      "     Site Age\n",
      "0  Google  10\n",
      "1  Runoob  12\n",
      "2    Wiki  13\n"
     ]
    }
   ],
   "execution_count": 8
  },
  {
   "metadata": {
    "ExecuteTime": {
     "end_time": "2024-12-22T15:05:28.741499Z",
     "start_time": "2024-12-22T15:05:28.723388Z"
    }
   },
   "cell_type": "code",
   "source": [
    "# dataframe的常用方法\n",
    "\n",
    "print('=============')\n",
    "# 返回行数据\n",
    "print(df.loc[[1,2]])\n",
    "print('=============')\n",
    "# 创建 DataFrame\n",
    "data = {\n",
    "    'Name': ['Alice', 'Bob', 'Charlie', 'David'],\n",
    "    'Age': [25, 30, 35, 40],\n",
    "    'City': ['New York', 'Los Angeles', 'Chicago', 'Houston']\n",
    "}\n",
    "df = pd.DataFrame(data)\n",
    "\n",
    "# 查看前两行数据\n",
    "print(df.head(2))\n",
    "\n",
    "# 查看 DataFrame 的基本信息\n",
    "print(df.info())\n",
    "\n",
    "# 获取描述统计信息\n",
    "print(df.describe())\n",
    "\n",
    "# 按年龄排序\n",
    "df_sorted = df.sort_values(by='Age', ascending=False)\n",
    "print(df_sorted)\n",
    "\n",
    "# 选择指定列\n",
    "print(df[['Name', 'Age']])\n",
    "\n",
    "# 按索引选择行\n",
    "print('=======')\n",
    "print(df.iloc[1:3])  # 选择第二到第三行（按位置）\n",
    "\n",
    "# 按标签选择行\n",
    "print('=======')\n",
    "print(df.loc[1:2])  # 选择第二到第三行（按标签）\n",
    "\n",
    "# 计算分组统计（按城市分组，计算平均年龄）\n",
    "print(df.groupby('City')['Age'].mean())\n",
    "\n",
    "# 处理缺失值（填充缺失值）\n",
    "df['Age'] = df['Age'].fillna(30)\n",
    "\n",
    "# 导出为 CSV 文件\n",
    "df.to_csv('output.csv', index=False)"
   ],
   "id": "93ee62e49957be69",
   "outputs": [
    {
     "name": "stdout",
     "output_type": "stream",
     "text": [
      "=============\n",
      "      Name  Age         City\n",
      "1      Bob   30  Los Angeles\n",
      "2  Charlie   35      Chicago\n",
      "=============\n",
      "    Name  Age         City\n",
      "0  Alice   25     New York\n",
      "1    Bob   30  Los Angeles\n",
      "<class 'pandas.core.frame.DataFrame'>\n",
      "RangeIndex: 4 entries, 0 to 3\n",
      "Data columns (total 3 columns):\n",
      " #   Column  Non-Null Count  Dtype \n",
      "---  ------  --------------  ----- \n",
      " 0   Name    4 non-null      object\n",
      " 1   Age     4 non-null      int64 \n",
      " 2   City    4 non-null      object\n",
      "dtypes: int64(1), object(2)\n",
      "memory usage: 224.0+ bytes\n",
      "None\n",
      "             Age\n",
      "count   4.000000\n",
      "mean   32.500000\n",
      "std     6.454972\n",
      "min    25.000000\n",
      "25%    28.750000\n",
      "50%    32.500000\n",
      "75%    36.250000\n",
      "max    40.000000\n",
      "      Name  Age         City\n",
      "3    David   40      Houston\n",
      "2  Charlie   35      Chicago\n",
      "1      Bob   30  Los Angeles\n",
      "0    Alice   25     New York\n",
      "      Name  Age\n",
      "0    Alice   25\n",
      "1      Bob   30\n",
      "2  Charlie   35\n",
      "3    David   40\n",
      "=======\n",
      "      Name  Age         City\n",
      "1      Bob   30  Los Angeles\n",
      "2  Charlie   35      Chicago\n",
      "=======\n",
      "      Name  Age         City\n",
      "1      Bob   30  Los Angeles\n",
      "2  Charlie   35      Chicago\n",
      "City\n",
      "Chicago        35.0\n",
      "Houston        40.0\n",
      "Los Angeles    30.0\n",
      "New York       25.0\n",
      "Name: Age, dtype: float64\n"
     ]
    }
   ],
   "execution_count": 13
  },
  {
   "metadata": {
    "ExecuteTime": {
     "end_time": "2024-12-22T15:13:48.770366Z",
     "start_time": "2024-12-22T15:13:48.761059Z"
    }
   },
   "cell_type": "code",
   "source": [
    "# loc和iloc的区别\n",
    "data = {\n",
    "    'Name': ['Alice', 'Bob', 'Charlie', 'David'],\n",
    "    'Age': [25, 30, 35, 40],\n",
    "    'City': ['New York', 'Los Angeles', 'Chicago', 'Houston']\n",
    "}\n",
    "df = pd.DataFrame(data)\n",
    "print(df)\n",
    "print('=============')\n",
    "# 使用loc选择行标签为1和2，列标签为'Name'和'City'的数据\n",
    "selected_data_loc = df.loc[[1, 2], ['Name', 'City']]\n",
    "print(selected_data_loc)\n",
    "print('=============')\n",
    "# 使用iloc选择第2和第3行（索引从0开始），第0和第2列的数据\n",
    "selected_data_iloc = df.iloc[1:3, [0, 2]]\n",
    "print(selected_data_iloc)\n",
    "print('=============')\n",
    "# 使用iloc选择第2和第3行（索引从0开始），第0和第2列的数据，前闭后开\n",
    "selected_data_iloc = df.iloc[1:3, [0, 2]]\n",
    "print(selected_data_iloc)\n"
   ],
   "id": "e1125781270498b",
   "outputs": [
    {
     "name": "stdout",
     "output_type": "stream",
     "text": [
      "      Name  Age         City\n",
      "0    Alice   25     New York\n",
      "1      Bob   30  Los Angeles\n",
      "2  Charlie   35      Chicago\n",
      "3    David   40      Houston\n",
      "=============\n",
      "      Name         City\n",
      "1      Bob  Los Angeles\n",
      "2  Charlie      Chicago\n",
      "=============\n",
      "      Name         City\n",
      "1      Bob  Los Angeles\n",
      "2  Charlie      Chicago\n",
      "=============\n",
      "      Name         City\n",
      "1      Bob  Los Angeles\n",
      "2  Charlie      Chicago\n"
     ]
    }
   ],
   "execution_count": 17
  }
 ],
 "metadata": {
  "kernelspec": {
   "display_name": "Python 3",
   "language": "python",
   "name": "python3"
  },
  "language_info": {
   "codemirror_mode": {
    "name": "ipython",
    "version": 2
   },
   "file_extension": ".py",
   "mimetype": "text/x-python",
   "name": "python",
   "nbconvert_exporter": "python",
   "pygments_lexer": "ipython2",
   "version": "2.7.6"
  }
 },
 "nbformat": 4,
 "nbformat_minor": 5
}
